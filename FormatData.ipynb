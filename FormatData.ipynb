{
 "cells": [
  {
   "cell_type": "code",
   "execution_count": 62,
   "id": "initial_id",
   "metadata": {
    "collapsed": true,
    "ExecuteTime": {
     "end_time": "2024-03-26T18:36:58.418447Z",
     "start_time": "2024-03-26T18:36:58.404755Z"
    }
   },
   "outputs": [],
   "source": [
    "import pandas as pd\n",
    "import subprocess\n",
    "import numpy as np\n",
    "import openpyxl"
   ]
  },
  {
   "cell_type": "code",
   "outputs": [],
   "source": [
    "df = pd.read_excel(\"agmsequences.xlsx\", header=0)\n",
    "\n",
    "#clean NaN values\n",
    "df.replace(np.nan, '', inplace=True)\n",
    "\n",
    "database_name = \"agm_db\"\n",
    "\n",
    "with open(database_name, \"w\") as f:\n",
    "    for index, row in df.iterrows():\n",
    "        f.write(\">\" + row[\"Gene ID\"] + \" | \")\n",
    "        f.write(str(row[\"Closest Human Gene\"]) + \" | \")\n",
    "        f.write(str(row[\"Homology (%)\"]) + \" | \")\n",
    "        f.write(row[\"Chromosome\"] + \"\\n\")\n",
    "        f.write(row[\"Sequence\"] + \"\\n\")\n",
    "        \n"
   ],
   "metadata": {
    "collapsed": false,
    "ExecuteTime": {
     "end_time": "2024-03-26T19:21:26.161656Z",
     "start_time": "2024-03-26T19:21:26.109697Z"
    }
   },
   "id": "1a76519691d96e23",
   "execution_count": 112
  },
  {
   "cell_type": "code",
   "outputs": [
    {
     "data": {
      "text/plain": "0"
     },
     "execution_count": 113,
     "metadata": {},
     "output_type": "execute_result"
    }
   ],
   "source": [
    " #create the database\n",
    "cmd = ['bin/makeblastdb', '-parse_seqids', '-dbtype', 'nucl', '-in', database_name]\n",
    "\n",
    "a = subprocess.Popen(cmd, stdout=subprocess.PIPE)\n",
    "a.wait()"
   ],
   "metadata": {
    "collapsed": false,
    "ExecuteTime": {
     "end_time": "2024-03-26T19:21:27.900489Z",
     "start_time": "2024-03-26T19:21:27.403681Z"
    }
   },
   "id": "6ad6f482f4cd9a60",
   "execution_count": 113
  }
 ],
 "metadata": {
  "kernelspec": {
   "display_name": "Python 3",
   "language": "python",
   "name": "python3"
  },
  "language_info": {
   "codemirror_mode": {
    "name": "ipython",
    "version": 2
   },
   "file_extension": ".py",
   "mimetype": "text/x-python",
   "name": "python",
   "nbconvert_exporter": "python",
   "pygments_lexer": "ipython2",
   "version": "2.7.6"
  }
 },
 "nbformat": 4,
 "nbformat_minor": 5
}
