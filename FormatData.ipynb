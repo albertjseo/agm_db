{
 "cells": [
  {
   "cell_type": "code",
   "execution_count": 29,
   "id": "initial_id",
   "metadata": {
    "collapsed": true,
    "ExecuteTime": {
     "end_time": "2024-03-26T03:46:33.744116Z",
     "start_time": "2024-03-26T03:46:33.739088Z"
    }
   },
   "outputs": [],
   "source": [
    "import pandas as pd\n",
    "import subprocess"
   ]
  },
  {
   "cell_type": "code",
   "outputs": [],
   "source": [
    "df = pd.read_excel(\"primers.xlsx\", header=1)\n",
    "\n",
    "# Remove rows with NaN values in Sequences column\n",
    "filtered_df = df[pd.notna(df['Sequences'])]\n",
    "\n",
    "database_name = \"aj_primers\"\n",
    "\n",
    "with open(database_name, \"w\") as f:\n",
    "    for index, row in filtered_df.iterrows():\n",
    "        f.write(\">\" + row[\"Primers\"] + \"\\n\")\n",
    "        f.write(row[\"Sequences\"] + \"\\n\")"
   ],
   "metadata": {
    "collapsed": false,
    "ExecuteTime": {
     "end_time": "2024-03-26T03:30:47.156090Z",
     "start_time": "2024-03-26T03:30:47.129095Z"
    }
   },
   "id": "1a76519691d96e23",
   "execution_count": 28
  },
  {
   "cell_type": "code",
   "outputs": [
    {
     "data": {
      "text/plain": "0"
     },
     "execution_count": 31,
     "metadata": {},
     "output_type": "execute_result"
    }
   ],
   "source": [
    "cmd = ['bin/makeblastdb', '-parse_seqids', '-dbtype', 'prot', '-in', database_name]\n",
    "\n",
    "a = subprocess.Popen(cmd, stdout=subprocess.PIPE)\n",
    "a.wait()"
   ],
   "metadata": {
    "collapsed": false,
    "ExecuteTime": {
     "end_time": "2024-03-26T03:46:46.500952Z",
     "start_time": "2024-03-26T03:46:45.674319Z"
    }
   },
   "id": "6ad6f482f4cd9a60",
   "execution_count": 31
  },
  {
   "cell_type": "code",
   "outputs": [
    {
     "data": {
      "text/plain": "      ID            Sequence\n0  cell1  CACCATGGACACGCTTTG\n1  cell2  AGTTTGGGCTGAGCTKGG",
      "text/html": "<div>\n<style scoped>\n    .dataframe tbody tr th:only-of-type {\n        vertical-align: middle;\n    }\n\n    .dataframe tbody tr th {\n        vertical-align: top;\n    }\n\n    .dataframe thead th {\n        text-align: right;\n    }\n</style>\n<table border=\"1\" class=\"dataframe\">\n  <thead>\n    <tr style=\"text-align: right;\">\n      <th></th>\n      <th>ID</th>\n      <th>Sequence</th>\n    </tr>\n  </thead>\n  <tbody>\n    <tr>\n      <th>0</th>\n      <td>cell1</td>\n      <td>CACCATGGACACGCTTTG</td>\n    </tr>\n    <tr>\n      <th>1</th>\n      <td>cell2</td>\n      <td>AGTTTGGGCTGAGCTKGG</td>\n    </tr>\n  </tbody>\n</table>\n</div>"
     },
     "execution_count": 33,
     "metadata": {},
     "output_type": "execute_result"
    }
   ],
   "source": [
    "# Dummy data\n",
    "external_data = [['cell1', 'CACCATGGACACGCTTTG'], ['cell2', 'AGTTTGGGCTGAGCTKGG']]\n",
    "external_data = pd.DataFrame(external_data, columns=[\"ID\", \"Sequence\"])\n",
    "\n",
    "external_data"
   ],
   "metadata": {
    "collapsed": false,
    "ExecuteTime": {
     "end_time": "2024-03-26T03:53:42.294976Z",
     "start_time": "2024-03-26T03:53:42.274815Z"
    }
   },
   "id": "8e0f4d71df3a694e",
   "execution_count": 33
  },
  {
   "cell_type": "code",
   "outputs": [
    {
     "name": "stdout",
     "output_type": "stream",
     "text": [
      "cell1's sequence is contained in VH2_EXT\n",
      "\tcell1 sequence: CACCATGGACACGCTTTG\n",
      "\tVH2_EXT sequence: CACCATGGACACGCTTTGCTCCACRCTC\n",
      "cell1's sequence is contained in VH2_INT\n",
      "\tcell1 sequence: CACCATGGACACGCTTTG\n",
      "\tVH2_INT sequence: CCAAGCTGGCTAGCACCATGGACACGCTTTGCTCCAC\n",
      "cell2's sequence is contained in VH3_EXT4\n",
      "\tcell2 sequence: AGTTTGGGCTGAGCTKGG\n",
      "\tVH3_EXT4 sequence: CATGGAGTTTGGGCTGAGCTKGGTTTTYC\n"
     ]
    }
   ],
   "source": [
    "# For each external sequence string given\n",
    "for _, row in external_data.iterrows():\n",
    "    external_id = row[\"ID\"]\n",
    "    external_sequence = row[\"Sequence\"]\n",
    "    \n",
    "    # We go through each primer and sequence pair from our xlsx\n",
    "    for index, row in filtered_df.iterrows():\n",
    "        primer = row[\"Primers\"]\n",
    "        sequence = row[\"Sequences\"]\n",
    "        \n",
    "        # If the external seq is a substring of our seq from our xlsx\n",
    "        # then we print out match info\n",
    "        if external_sequence in sequence:\n",
    "            print(f\"{external_id}'s sequence is contained in {primer}\")\n",
    "            print(f\"\\t{external_id} sequence: {external_sequence}\")\n",
    "            print(f\"\\t{primer} sequence: {sequence}\")\n",
    "        "
   ],
   "metadata": {
    "collapsed": false,
    "ExecuteTime": {
     "end_time": "2024-03-26T03:57:12.718904Z",
     "start_time": "2024-03-26T03:57:12.699300Z"
    }
   },
   "id": "dca318bfd68da1be",
   "execution_count": 38
  }
 ],
 "metadata": {
  "kernelspec": {
   "display_name": "Python 3",
   "language": "python",
   "name": "python3"
  },
  "language_info": {
   "codemirror_mode": {
    "name": "ipython",
    "version": 2
   },
   "file_extension": ".py",
   "mimetype": "text/x-python",
   "name": "python",
   "nbconvert_exporter": "python",
   "pygments_lexer": "ipython2",
   "version": "2.7.6"
  }
 },
 "nbformat": 4,
 "nbformat_minor": 5
}
